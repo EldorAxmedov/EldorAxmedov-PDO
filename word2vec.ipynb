{
  "nbformat": 4,
  "nbformat_minor": 0,
  "metadata": {
    "colab": {
      "provenance": [],
      "authorship_tag": "ABX9TyM5Xj/wyfnjxzQM11BhHmmP",
      "include_colab_link": true
    },
    "kernelspec": {
      "name": "python3",
      "display_name": "Python 3"
    },
    "language_info": {
      "name": "python"
    }
  },
  "cells": [
    {
      "cell_type": "markdown",
      "metadata": {
        "id": "view-in-github",
        "colab_type": "text"
      },
      "source": [
        "<a href=\"https://colab.research.google.com/github/EldorAxmedov/EldorAxmedov-PDO/blob/master/word2vec.ipynb\" target=\"_parent\"><img src=\"https://colab.research.google.com/assets/colab-badge.svg\" alt=\"Open In Colab\"/></a>"
      ]
    },
    {
      "cell_type": "code",
      "execution_count": 2,
      "metadata": {
        "colab": {
          "base_uri": "https://localhost:8080/"
        },
        "id": "LgfTZBn49JjR",
        "outputId": "5993e5f0-9152-4175-d478-09c1b0e2a8a7"
      },
      "outputs": [
        {
          "output_type": "stream",
          "name": "stdout",
          "text": [
            "Requirement already satisfied: gensim in /usr/local/lib/python3.10/dist-packages (4.3.2)\n",
            "Requirement already satisfied: numpy>=1.18.5 in /usr/local/lib/python3.10/dist-packages (from gensim) (1.25.2)\n",
            "Requirement already satisfied: scipy>=1.7.0 in /usr/local/lib/python3.10/dist-packages (from gensim) (1.11.4)\n",
            "Requirement already satisfied: smart-open>=1.8.1 in /usr/local/lib/python3.10/dist-packages (from gensim) (7.0.4)\n",
            "Requirement already satisfied: wrapt in /usr/local/lib/python3.10/dist-packages (from smart-open>=1.8.1->gensim) (1.14.1)\n"
          ]
        }
      ],
      "source": [
        "!pip install gensim"
      ]
    },
    {
      "cell_type": "code",
      "source": [
        "from gensim.models import Word2Vec\n",
        "\n",
        "# список предложений, где каждое предложение - список слов\n",
        "sentences = [\n",
        "    [\"mushuk\", \"ovlamoq\", \"sichqon\"],\n",
        "    [\"kuchuk\", \"quvlaydi\", \"mushukni\"]\n",
        "]\n",
        "\n",
        "# Создание модели Word2Vec\n",
        "model = Word2Vec(sentences, vector_size=100, window=5, min_count=1, workers=4)"
      ],
      "metadata": {
        "id": "pFe2tU6J9kO0"
      },
      "execution_count": 8,
      "outputs": []
    },
    {
      "cell_type": "code",
      "source": [
        "# Word2Vec обучается на ваших текстовых данных\n",
        "model.train(sentences, total_examples=model.corpus_count, epochs=10)"
      ],
      "metadata": {
        "colab": {
          "base_uri": "https://localhost:8080/"
        },
        "id": "nobe65459oT5",
        "outputId": "3b8b234c-932a-4bd2-a24c-e45e357f84e8"
      },
      "execution_count": 9,
      "outputs": [
        {
          "output_type": "stream",
          "name": "stderr",
          "text": [
            "WARNING:gensim.models.word2vec:Effective 'alpha' higher than previous training cycles\n"
          ]
        },
        {
          "output_type": "execute_result",
          "data": {
            "text/plain": [
              "(3, 60)"
            ]
          },
          "metadata": {},
          "execution_count": 9
        }
      ]
    },
    {
      "cell_type": "code",
      "source": [
        "# После обучения модели мы можем использовать полученные векторы слов или проводить различные виды семантических операций.\n",
        "# Получение вектора слова\n",
        "vector = model.wv['mushuk']\n",
        "\n",
        "# Поиск похожих слов\n",
        "similar_words = model.wv.most_similar('mushuk')\n",
        "print(similar_words)"
      ],
      "metadata": {
        "colab": {
          "base_uri": "https://localhost:8080/"
        },
        "id": "2lffrDlk91-N",
        "outputId": "80e6bd0e-3320-4045-d14e-544454dfe0ef"
      },
      "execution_count": 10,
      "outputs": [
        {
          "output_type": "stream",
          "name": "stdout",
          "text": [
            "[('ovlamoq', 0.13887982070446014), ('sichqon', 0.13149002194404602), ('kuchuk', 0.06408979743719101), ('quvlaydi', 0.009391160681843758), ('mushukni', -0.05987628921866417)]\n"
          ]
        }
      ]
    }
  ]
}